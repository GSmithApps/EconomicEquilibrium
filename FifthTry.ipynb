{
  "nbformat": 4,
  "nbformat_minor": 0,
  "metadata": {
    "colab": {
      "name": "FifthTry.ipynb",
      "provenance": [],
      "authorship_tag": "ABX9TyPly0QNaEtIAuYgKoF3IXMC",
      "include_colab_link": true
    },
    "kernelspec": {
      "name": "python3",
      "display_name": "Python 3"
    }
  },
  "cells": [
    {
      "cell_type": "markdown",
      "metadata": {
        "id": "view-in-github",
        "colab_type": "text"
      },
      "source": [
        "<a href=\"https://colab.research.google.com/github/GSmithApps/EconomicEquilibrium/blob/main/FifthTry.ipynb\" target=\"_parent\"><img src=\"https://colab.research.google.com/assets/colab-badge.svg\" alt=\"Open In Colab\"/></a>"
      ]
    },
    {
      "cell_type": "code",
      "metadata": {
        "id": "PU_QGN6lJzDL"
      },
      "source": [
        "# code will go right here\n",
        "\n",
        "import numpy as np\n",
        "a = np.arange(15).reshape(3, 5)\n",
        "a\n",
        "array([[ 0,  1,  2,  3,  4],\n",
        "       [ 5,  6,  7,  8,  9],\n",
        "       [10, 11, 12, 13, 14]])\n",
        "a.shape\n",
        "(3, 5)\n",
        "a.ndim\n",
        "2\n",
        "a.dtype.name\n",
        "'int64'\n",
        "a.itemsize\n",
        "8\n",
        "a.size\n",
        "15\n",
        "type(a)\n",
        "<class 'numpy.ndarray'>\n",
        "b = np.array([6, 7, 8])\n",
        "b\n",
        "array([6, 7, 8])\n",
        "type(b)\n",
        "<class 'numpy.ndarray'>\n"
      ],
      "execution_count": null,
      "outputs": []
    },
    {
      "cell_type": "code",
      "metadata": {
        "colab": {
          "base_uri": "https://localhost:8080/"
        },
        "id": "JmUfqKRfKkxE",
        "outputId": "872b6cc9-a48a-46de-d059-cb001911fbb9"
      },
      "source": [
        ">>> import numpy as np\n",
        ">>> a = np.array([2,3,4])\n",
        ">>> a\n",
        "array([2, 3, 4])\n",
        ">>> a.dtype\n",
        "dtype('int64')\n",
        ">>> b = np.array([1.2, 3.5, 5.1])\n",
        ">>> b.dtype\n",
        "dtype('float64')"
      ],
      "execution_count": 13,
      "outputs": [
        {
          "output_type": "execute_result",
          "data": {
            "text/plain": [
              "numpy.ndarray"
            ]
          },
          "metadata": {
            "tags": []
          },
          "execution_count": 13
        }
      ]
    },
    {
      "cell_type": "code",
      "metadata": {
        "colab": {
          "base_uri": "https://localhost:8080/"
        },
        "id": "OpGstSJ8Ln8L",
        "outputId": "ec778256-6620-4955-e75f-e4ed4ba2f3b7"
      },
      "source": [
        "import numpy as np\n",
        "a = np.array([2,3,4])\n",
        "a\n",
        "#a.dtype\n",
        "b = np.array([(1,2,3),(4,5,6)])\n",
        "b"
      ],
      "execution_count": 28,
      "outputs": [
        {
          "output_type": "execute_result",
          "data": {
            "text/plain": [
              "array([[1, 2, 3],\n",
              "       [4, 5, 6]])"
            ]
          },
          "metadata": {
            "tags": []
          },
          "execution_count": 28
        }
      ]
    }
  ]
}